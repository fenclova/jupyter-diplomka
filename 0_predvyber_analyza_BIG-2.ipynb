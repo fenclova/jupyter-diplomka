{
 "cells": [
  {
   "cell_type": "markdown",
   "metadata": {},
   "source": [
    "## Předvýběr území na základě limitujících podmínek\n",
    "Karolína Fenclová, Diplomová práce\n",
    "\n",
    "Skript pro analýzu hodnot pro základní kritéria"
   ]
  },
  {
   "cell_type": "code",
   "execution_count": 3,
   "metadata": {},
   "outputs": [],
   "source": [
    "# -*- coding: utf-8 -*-\n",
    "from __future__ import unicode_literals\n",
    "import pandas as pd"
   ]
  },
  {
   "cell_type": "code",
   "execution_count": 6,
   "metadata": {},
   "outputs": [
    {
     "data": {
      "text/html": [
       "<div>\n",
       "<style scoped>\n",
       "    .dataframe tbody tr th:only-of-type {\n",
       "        vertical-align: middle;\n",
       "    }\n",
       "\n",
       "    .dataframe tbody tr th {\n",
       "        vertical-align: top;\n",
       "    }\n",
       "\n",
       "    .dataframe thead th {\n",
       "        text-align: right;\n",
       "    }\n",
       "</style>\n",
       "<table border=\"1\" class=\"dataframe\">\n",
       "  <thead>\n",
       "    <tr style=\"text-align: right;\">\n",
       "      <th></th>\n",
       "      <th>ID</th>\n",
       "      <th>find_path_problem</th>\n",
       "      <th>end_start_kombinace</th>\n",
       "      <th>nejlepsi_podil_ploch</th>\n",
       "      <th>pocet_pruseciku</th>\n",
       "    </tr>\n",
       "  </thead>\n",
       "  <tbody>\n",
       "    <tr>\n",
       "      <th>count</th>\n",
       "      <td>997.000000</td>\n",
       "      <td>997.000000</td>\n",
       "      <td>997.000000</td>\n",
       "      <td>997.000000</td>\n",
       "      <td>997.000000</td>\n",
       "    </tr>\n",
       "    <tr>\n",
       "      <th>mean</th>\n",
       "      <td>8720.278837</td>\n",
       "      <td>3.933801</td>\n",
       "      <td>35.771314</td>\n",
       "      <td>402.805426</td>\n",
       "      <td>16.317954</td>\n",
       "    </tr>\n",
       "    <tr>\n",
       "      <th>std</th>\n",
       "      <td>5099.275498</td>\n",
       "      <td>8.756732</td>\n",
       "      <td>27.344850</td>\n",
       "      <td>8593.011957</td>\n",
       "      <td>6.088884</td>\n",
       "    </tr>\n",
       "    <tr>\n",
       "      <th>min</th>\n",
       "      <td>18.000000</td>\n",
       "      <td>0.000000</td>\n",
       "      <td>0.000000</td>\n",
       "      <td>0.000000</td>\n",
       "      <td>0.000000</td>\n",
       "    </tr>\n",
       "    <tr>\n",
       "      <th>25%</th>\n",
       "      <td>4624.000000</td>\n",
       "      <td>0.000000</td>\n",
       "      <td>18.000000</td>\n",
       "      <td>1.250000</td>\n",
       "      <td>13.000000</td>\n",
       "    </tr>\n",
       "    <tr>\n",
       "      <th>50%</th>\n",
       "      <td>8990.000000</td>\n",
       "      <td>0.000000</td>\n",
       "      <td>30.000000</td>\n",
       "      <td>2.000000</td>\n",
       "      <td>17.000000</td>\n",
       "    </tr>\n",
       "    <tr>\n",
       "      <th>75%</th>\n",
       "      <td>13243.000000</td>\n",
       "      <td>0.000000</td>\n",
       "      <td>48.000000</td>\n",
       "      <td>4.850000</td>\n",
       "      <td>20.000000</td>\n",
       "    </tr>\n",
       "    <tr>\n",
       "      <th>max</th>\n",
       "      <td>17628.000000</td>\n",
       "      <td>72.000000</td>\n",
       "      <td>187.000000</td>\n",
       "      <td>261222.820000</td>\n",
       "      <td>37.000000</td>\n",
       "    </tr>\n",
       "  </tbody>\n",
       "</table>\n",
       "</div>"
      ],
      "text/plain": [
       "                 ID  find_path_problem  end_start_kombinace  \\\n",
       "count    997.000000         997.000000           997.000000   \n",
       "mean    8720.278837           3.933801            35.771314   \n",
       "std     5099.275498           8.756732            27.344850   \n",
       "min       18.000000           0.000000             0.000000   \n",
       "25%     4624.000000           0.000000            18.000000   \n",
       "50%     8990.000000           0.000000            30.000000   \n",
       "75%    13243.000000           0.000000            48.000000   \n",
       "max    17628.000000          72.000000           187.000000   \n",
       "\n",
       "       nejlepsi_podil_ploch  pocet_pruseciku  \n",
       "count            997.000000       997.000000  \n",
       "mean             402.805426        16.317954  \n",
       "std             8593.011957         6.088884  \n",
       "min                0.000000         0.000000  \n",
       "25%                1.250000        13.000000  \n",
       "50%                2.000000        17.000000  \n",
       "75%                4.850000        20.000000  \n",
       "max           261222.820000        37.000000  "
      ]
     },
     "execution_count": 6,
     "metadata": {},
     "output_type": "execute_result"
    }
   ],
   "source": [
    "df3_test = pd.read_csv(r'C:\\fenclova\\diplomka\\analyza\\vysledky\\Nove_predvyber_VodniTok7.csv')\n",
    "df3_test.describe()"
   ]
  },
  {
   "cell_type": "code",
   "execution_count": 7,
   "metadata": {},
   "outputs": [
    {
     "data": {
      "text/plain": [
       "Text(0,0.5,u'Po\\u010det variant')"
      ]
     },
     "execution_count": 7,
     "metadata": {},
     "output_type": "execute_result"
    }
   ],
   "source": [
    "# histogram podilu ploch\n",
    "d = df3_test.nejlepsi_podil_ploch[(df3_test.nejlepsi_podil_ploch <= 10)] \n",
    "dx = d.hist(bins=100)\n",
    "dx.set_xlabel('Podíl ploch při rozdělení území vodním tokem')\n",
    "dx.set_ylabel('Počet variant')"
   ]
  },
  {
   "cell_type": "code",
   "execution_count": 11,
   "metadata": {},
   "outputs": [
    {
     "data": {
      "text/html": [
       "<div>\n",
       "<style scoped>\n",
       "    .dataframe tbody tr th:only-of-type {\n",
       "        vertical-align: middle;\n",
       "    }\n",
       "\n",
       "    .dataframe tbody tr th {\n",
       "        vertical-align: top;\n",
       "    }\n",
       "\n",
       "    .dataframe thead th {\n",
       "        text-align: right;\n",
       "    }\n",
       "</style>\n",
       "<table border=\"1\" class=\"dataframe\">\n",
       "  <thead>\n",
       "    <tr style=\"text-align: right;\">\n",
       "      <th></th>\n",
       "      <th>ID</th>\n",
       "      <th>find_path_problem</th>\n",
       "      <th>end_start_kombinace</th>\n",
       "      <th>nejlepsi_podil_ploch</th>\n",
       "      <th>pocet_pruseciku</th>\n",
       "    </tr>\n",
       "  </thead>\n",
       "  <tbody>\n",
       "    <tr>\n",
       "      <th>count</th>\n",
       "      <td>578.000000</td>\n",
       "      <td>578.000000</td>\n",
       "      <td>578.000000</td>\n",
       "      <td>578.000000</td>\n",
       "      <td>578.000000</td>\n",
       "    </tr>\n",
       "    <tr>\n",
       "      <th>mean</th>\n",
       "      <td>8679.987889</td>\n",
       "      <td>3.354671</td>\n",
       "      <td>35.252595</td>\n",
       "      <td>1.604170</td>\n",
       "      <td>18.326990</td>\n",
       "    </tr>\n",
       "    <tr>\n",
       "      <th>std</th>\n",
       "      <td>5114.091196</td>\n",
       "      <td>8.278126</td>\n",
       "      <td>26.499309</td>\n",
       "      <td>0.549219</td>\n",
       "      <td>3.065772</td>\n",
       "    </tr>\n",
       "    <tr>\n",
       "      <th>min</th>\n",
       "      <td>18.000000</td>\n",
       "      <td>0.000000</td>\n",
       "      <td>1.000000</td>\n",
       "      <td>1.000000</td>\n",
       "      <td>13.000000</td>\n",
       "    </tr>\n",
       "    <tr>\n",
       "      <th>25%</th>\n",
       "      <td>4599.250000</td>\n",
       "      <td>0.000000</td>\n",
       "      <td>18.000000</td>\n",
       "      <td>1.150000</td>\n",
       "      <td>16.000000</td>\n",
       "    </tr>\n",
       "    <tr>\n",
       "      <th>50%</th>\n",
       "      <td>8968.500000</td>\n",
       "      <td>0.000000</td>\n",
       "      <td>28.000000</td>\n",
       "      <td>1.380000</td>\n",
       "      <td>18.000000</td>\n",
       "    </tr>\n",
       "    <tr>\n",
       "      <th>75%</th>\n",
       "      <td>13216.750000</td>\n",
       "      <td>0.000000</td>\n",
       "      <td>48.000000</td>\n",
       "      <td>1.970000</td>\n",
       "      <td>21.000000</td>\n",
       "    </tr>\n",
       "    <tr>\n",
       "      <th>max</th>\n",
       "      <td>17628.000000</td>\n",
       "      <td>72.000000</td>\n",
       "      <td>187.000000</td>\n",
       "      <td>3.000000</td>\n",
       "      <td>25.000000</td>\n",
       "    </tr>\n",
       "  </tbody>\n",
       "</table>\n",
       "</div>"
      ],
      "text/plain": [
       "                 ID  find_path_problem  end_start_kombinace  \\\n",
       "count    578.000000         578.000000           578.000000   \n",
       "mean    8679.987889           3.354671            35.252595   \n",
       "std     5114.091196           8.278126            26.499309   \n",
       "min       18.000000           0.000000             1.000000   \n",
       "25%     4599.250000           0.000000            18.000000   \n",
       "50%     8968.500000           0.000000            28.000000   \n",
       "75%    13216.750000           0.000000            48.000000   \n",
       "max    17628.000000          72.000000           187.000000   \n",
       "\n",
       "       nejlepsi_podil_ploch  pocet_pruseciku  \n",
       "count            578.000000       578.000000  \n",
       "mean               1.604170        18.326990  \n",
       "std                0.549219         3.065772  \n",
       "min                1.000000        13.000000  \n",
       "25%                1.150000        16.000000  \n",
       "50%                1.380000        18.000000  \n",
       "75%                1.970000        21.000000  \n",
       "max                3.000000        25.000000  "
      ]
     },
     "execution_count": 11,
     "metadata": {},
     "output_type": "execute_result"
    }
   ],
   "source": [
    "df3_test[(df3_test.nejlepsi_podil_ploch <= 3) \n",
    "         & (df3_test.pocet_pruseciku >= 10) & (df3_test.pocet_pruseciku <= 25)\n",
    "        ].describe()"
   ]
  },
  {
   "cell_type": "code",
   "execution_count": 14,
   "metadata": {},
   "outputs": [
    {
     "data": {
      "text/plain": [
       "Text(0,0.5,u'Po\\u010det pr\\u016fse\\u010d\\xedk\\u016f vodn\\xedho toku s m\\u0159\\xed\\u017ekou')"
      ]
     },
     "execution_count": 14,
     "metadata": {},
     "output_type": "execute_result"
    },
    {
     "data": {
      "image/png": "[encoded data removed]",
      "text/plain": [
       "<matplotlib.figure.Figure at 0xce52b00>"
      ]
     },
     "metadata": {},
     "output_type": "display_data"
    }
   ],
   "source": [
    "# závislost podílu ploch na poštu průsečíků s mřížkou\n",
    "a = df3_test[(df3_test.nejlepsi_podil_ploch <= 5)]\n",
    "ax= a.plot(x='nejlepsi_podil_ploch', y='pocet_pruseciku', \n",
    "                                                                kind='scatter', \n",
    "                                                                ylim={10, 35}, xlim={1,5}, \n",
    "                                                                grid=True)\n",
    "\n",
    "ax.set_xlabel('Podíl ploch při rozdělení')\n",
    "ax.set_ylabel('Počet průsečíků vodního toku s mřížkou')\n",
    "\n",
    "# >> podíl ploch je důležitý, protože vybere hlavní tok v území\n",
    "# ale náročnost záleží na počtu průsečíků"
   ]
  },
  {
   "cell_type": "code",
   "execution_count": null,
   "metadata": {},
   "outputs": [],
   "source": [
    "# "
   ]
  }
 ],
 "metadata": {
  "kernelspec": {
   "display_name": "Python 2",
   "language": "python",
   "name": "python2"
  },
  "language_info": {
   "codemirror_mode": {
    "name": "ipython",
    "version": 2
   },
   "file_extension": ".py",
   "mimetype": "text/x-python",
   "name": "python",
   "nbconvert_exporter": "python",
   "pygments_lexer": "ipython2",
   "version": "2.7.14"
  }
 },
 "nbformat": 4,
 "nbformat_minor": 2
}
