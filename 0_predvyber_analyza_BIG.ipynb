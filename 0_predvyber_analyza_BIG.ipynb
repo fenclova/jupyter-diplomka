{
 "cells": [
  {
   "cell_type": "markdown",
   "metadata": {},
   "source": [
    "## Předvýběr území na základě limitujících podmínek\n",
    "Karolína Fenclová, Diplomová práce\n",
    "\n",
    "Skript pro analýzu hodnot pro základní kritéria"
   ]
  },
  {
   "cell_type": "code",
   "execution_count": 3,
   "metadata": {},
   "outputs": [],
   "source": [
    "# -*- coding: utf-8 -*-\n",
    "from __future__ import unicode_literals\n",
    "import pandas as pd"
   ]
  },
  {
   "cell_type": "code",
   "execution_count": 4,
   "metadata": {},
   "outputs": [
    {
     "data": {
      "text/html": [
       "<div>\n",
       "<style scoped>\n",
       "    .dataframe tbody tr th:only-of-type {\n",
       "        vertical-align: middle;\n",
       "    }\n",
       "\n",
       "    .dataframe tbody tr th {\n",
       "        vertical-align: top;\n",
       "    }\n",
       "\n",
       "    .dataframe thead th {\n",
       "        text-align: right;\n",
       "    }\n",
       "</style>\n",
       "<table border=\"1\" class=\"dataframe\">\n",
       "  <thead>\n",
       "    <tr style=\"text-align: right;\">\n",
       "      <th></th>\n",
       "      <th>zeleznice_delka</th>\n",
       "      <th>vrstevnice_pocet</th>\n",
       "      <th>vodni_plohy_rozloha</th>\n",
       "      <th>dibA02_delka</th>\n",
       "      <th>relief_rozloha</th>\n",
       "      <th>zastavba_rozloha</th>\n",
       "    </tr>\n",
       "    <tr>\n",
       "      <th>ID</th>\n",
       "      <th></th>\n",
       "      <th></th>\n",
       "      <th></th>\n",
       "      <th></th>\n",
       "      <th></th>\n",
       "      <th></th>\n",
       "    </tr>\n",
       "  </thead>\n",
       "  <tbody>\n",
       "    <tr>\n",
       "      <th>1</th>\n",
       "      <td>2916.80</td>\n",
       "      <td>268.0</td>\n",
       "      <td>100013.45</td>\n",
       "      <td>13477.08</td>\n",
       "      <td>197106.33</td>\n",
       "      <td>452304.47</td>\n",
       "    </tr>\n",
       "    <tr>\n",
       "      <th>2</th>\n",
       "      <td>1746.48</td>\n",
       "      <td>211.0</td>\n",
       "      <td>75317.79</td>\n",
       "      <td>11445.57</td>\n",
       "      <td>106362.35</td>\n",
       "      <td>598476.56</td>\n",
       "    </tr>\n",
       "    <tr>\n",
       "      <th>3</th>\n",
       "      <td>3037.87</td>\n",
       "      <td>273.0</td>\n",
       "      <td>102853.89</td>\n",
       "      <td>20013.60</td>\n",
       "      <td>27378.37</td>\n",
       "      <td>169553.29</td>\n",
       "    </tr>\n",
       "    <tr>\n",
       "      <th>4</th>\n",
       "      <td>1496.63</td>\n",
       "      <td>236.0</td>\n",
       "      <td>1253150.84</td>\n",
       "      <td>7025.02</td>\n",
       "      <td>609169.86</td>\n",
       "      <td>716973.51</td>\n",
       "    </tr>\n",
       "    <tr>\n",
       "      <th>5</th>\n",
       "      <td>6191.81</td>\n",
       "      <td>193.0</td>\n",
       "      <td>511724.21</td>\n",
       "      <td>15890.52</td>\n",
       "      <td>269874.62</td>\n",
       "      <td>317985.96</td>\n",
       "    </tr>\n",
       "  </tbody>\n",
       "</table>\n",
       "</div>"
      ],
      "text/plain": [
       "    zeleznice_delka  vrstevnice_pocet  vodni_plohy_rozloha  dibA02_delka  \\\n",
       "ID                                                                         \n",
       "1           2916.80             268.0            100013.45      13477.08   \n",
       "2           1746.48             211.0             75317.79      11445.57   \n",
       "3           3037.87             273.0            102853.89      20013.60   \n",
       "4           1496.63             236.0           1253150.84       7025.02   \n",
       "5           6191.81             193.0            511724.21      15890.52   \n",
       "\n",
       "    relief_rozloha  zastavba_rozloha  \n",
       "ID                                    \n",
       "1        197106.33         452304.47  \n",
       "2        106362.35         598476.56  \n",
       "3         27378.37         169553.29  \n",
       "4        609169.86         716973.51  \n",
       "5        269874.62         317985.96  "
      ]
     },
     "execution_count": 4,
     "metadata": {},
     "output_type": "execute_result"
    }
   ],
   "source": [
    "df = pd.read_csv(r\"C:\\fenclova\\diplomka\\analyza\\vysledky\\Nove_predvyber_vysledky34tis.csv\").set_index('ID')\n",
    "df.head()"
   ]
  },
  {
   "cell_type": "code",
   "execution_count": 3,
   "metadata": {},
   "outputs": [
    {
     "data": {
      "text/html": [
       "<div>\n",
       "<style scoped>\n",
       "    .dataframe tbody tr th:only-of-type {\n",
       "        vertical-align: middle;\n",
       "    }\n",
       "\n",
       "    .dataframe tbody tr th {\n",
       "        vertical-align: top;\n",
       "    }\n",
       "\n",
       "    .dataframe thead th {\n",
       "        text-align: right;\n",
       "    }\n",
       "</style>\n",
       "<table border=\"1\" class=\"dataframe\">\n",
       "  <thead>\n",
       "    <tr style=\"text-align: right;\">\n",
       "      <th></th>\n",
       "      <th>zeleznice_delka</th>\n",
       "      <th>vrstevnice_pocet</th>\n",
       "      <th>vodni_plohy_rozloha</th>\n",
       "      <th>dibA02_delka</th>\n",
       "      <th>relief_rozloha</th>\n",
       "      <th>zastavba_rozloha</th>\n",
       "    </tr>\n",
       "  </thead>\n",
       "  <tbody>\n",
       "    <tr>\n",
       "      <th>count</th>\n",
       "      <td>34166.000000</td>\n",
       "      <td>34166.000000</td>\n",
       "      <td>3.416600e+04</td>\n",
       "      <td>34166.000000</td>\n",
       "      <td>3.416600e+04</td>\n",
       "      <td>3.416600e+04</td>\n",
       "    </tr>\n",
       "    <tr>\n",
       "      <th>mean</th>\n",
       "      <td>5392.621366</td>\n",
       "      <td>119.364397</td>\n",
       "      <td>2.508810e+05</td>\n",
       "      <td>12096.330259</td>\n",
       "      <td>4.750117e+04</td>\n",
       "      <td>1.411995e+06</td>\n",
       "    </tr>\n",
       "    <tr>\n",
       "      <th>std</th>\n",
       "      <td>5862.627946</td>\n",
       "      <td>87.677140</td>\n",
       "      <td>4.994635e+05</td>\n",
       "      <td>5793.069204</td>\n",
       "      <td>3.359728e+05</td>\n",
       "      <td>1.445075e+06</td>\n",
       "    </tr>\n",
       "    <tr>\n",
       "      <th>min</th>\n",
       "      <td>0.230000</td>\n",
       "      <td>1.000000</td>\n",
       "      <td>1.000000e+00</td>\n",
       "      <td>0.000000</td>\n",
       "      <td>0.000000e+00</td>\n",
       "      <td>5.800000e-01</td>\n",
       "    </tr>\n",
       "    <tr>\n",
       "      <th>25%</th>\n",
       "      <td>2495.820000</td>\n",
       "      <td>54.000000</td>\n",
       "      <td>3.893772e+04</td>\n",
       "      <td>8151.820000</td>\n",
       "      <td>0.000000e+00</td>\n",
       "      <td>5.985002e+05</td>\n",
       "    </tr>\n",
       "    <tr>\n",
       "      <th>50%</th>\n",
       "      <td>4430.760000</td>\n",
       "      <td>98.000000</td>\n",
       "      <td>1.019114e+05</td>\n",
       "      <td>12080.370000</td>\n",
       "      <td>1.979600e+03</td>\n",
       "      <td>9.761296e+05</td>\n",
       "    </tr>\n",
       "    <tr>\n",
       "      <th>75%</th>\n",
       "      <td>6196.270000</td>\n",
       "      <td>162.000000</td>\n",
       "      <td>2.613735e+05</td>\n",
       "      <td>15804.592500</td>\n",
       "      <td>1.709619e+04</td>\n",
       "      <td>1.662835e+06</td>\n",
       "    </tr>\n",
       "    <tr>\n",
       "      <th>max</th>\n",
       "      <td>95250.270000</td>\n",
       "      <td>690.000000</td>\n",
       "      <td>1.017666e+07</td>\n",
       "      <td>41613.460000</td>\n",
       "      <td>1.159171e+07</td>\n",
       "      <td>1.535264e+07</td>\n",
       "    </tr>\n",
       "  </tbody>\n",
       "</table>\n",
       "</div>"
      ],
      "text/plain": [
       "       zeleznice_delka  vrstevnice_pocet  vodni_plohy_rozloha  dibA02_delka  \\\n",
       "count     34166.000000      34166.000000         3.416600e+04  34166.000000   \n",
       "mean       5392.621366        119.364397         2.508810e+05  12096.330259   \n",
       "std        5862.627946         87.677140         4.994635e+05   5793.069204   \n",
       "min           0.230000          1.000000         1.000000e+00      0.000000   \n",
       "25%        2495.820000         54.000000         3.893772e+04   8151.820000   \n",
       "50%        4430.760000         98.000000         1.019114e+05  12080.370000   \n",
       "75%        6196.270000        162.000000         2.613735e+05  15804.592500   \n",
       "max       95250.270000        690.000000         1.017666e+07  41613.460000   \n",
       "\n",
       "       relief_rozloha  zastavba_rozloha  \n",
       "count    3.416600e+04      3.416600e+04  \n",
       "mean     4.750117e+04      1.411995e+06  \n",
       "std      3.359728e+05      1.445075e+06  \n",
       "min      0.000000e+00      5.800000e-01  \n",
       "25%      0.000000e+00      5.985002e+05  \n",
       "50%      1.979600e+03      9.761296e+05  \n",
       "75%      1.709619e+04      1.662835e+06  \n",
       "max      1.159171e+07      1.535264e+07  "
      ]
     },
     "execution_count": 3,
     "metadata": {},
     "output_type": "execute_result"
    }
   ],
   "source": [
    "df.describe()"
   ]
  },
  {
   "cell_type": "code",
   "execution_count": null,
   "metadata": {},
   "outputs": [],
   "source": []
  },
  {
   "cell_type": "code",
   "execution_count": 1,
   "metadata": {},
   "outputs": [
    {
     "ename": "NameError",
     "evalue": "name 'df' is not defined",
     "output_type": "error",
     "traceback": [
      "\u001b[1;31m---------------------------------------------------------------------------\u001b[0m",
      "\u001b[1;31mNameError\u001b[0m                                 Traceback (most recent call last)",
      "\u001b[1;32m<ipython-input-1-e4d25386c769>\u001b[0m in \u001b[0;36m<module>\u001b[1;34m()\u001b[0m\n\u001b[0;32m      1\u001b[0m \u001b[1;31m# závislost délky železnice a rozlohy zástavby\u001b[0m\u001b[1;33m\u001b[0m\u001b[1;33m\u001b[0m\u001b[0m\n\u001b[1;32m----> 2\u001b[1;33m \u001b[0ma\u001b[0m \u001b[1;33m=\u001b[0m \u001b[0mdf\u001b[0m\u001b[1;33m[\u001b[0m\u001b[0mdf\u001b[0m\u001b[1;33m.\u001b[0m\u001b[0mzeleznice_delka\u001b[0m \u001b[1;33m<=\u001b[0m \u001b[1;36m50000\u001b[0m\u001b[1;33m]\u001b[0m\u001b[1;33m\u001b[0m\u001b[0m\n\u001b[0m\u001b[0;32m      3\u001b[0m ax= a.sort_values(by=['zeleznice_delka']).plot(x='zeleznice_delka', \n\u001b[0;32m      4\u001b[0m                                                                 \u001b[0my\u001b[0m\u001b[1;33m=\u001b[0m\u001b[1;34m'zastavba_rozloha'\u001b[0m\u001b[1;33m,\u001b[0m\u001b[1;33m\u001b[0m\u001b[0m\n\u001b[0;32m      5\u001b[0m                                                                 \u001b[0mkind\u001b[0m\u001b[1;33m=\u001b[0m\u001b[1;34m'scatter'\u001b[0m\u001b[1;33m,\u001b[0m\u001b[1;33m\u001b[0m\u001b[0m\n",
      "\u001b[1;31mNameError\u001b[0m: name 'df' is not defined"
     ]
    }
   ],
   "source": [
    "# závislost délky železnice a rozlohy zástavby\n",
    "a = df[df.zeleznice_delka <= 50000]\n",
    "ax= a.sort_values(by=['zeleznice_delka']).plot(x='zeleznice_delka', \n",
    "                                                                y='zastavba_rozloha', \n",
    "                                                                kind='scatter', \n",
    "                                                                ylim=0, xlim=0, \n",
    "                                                                grid=True)\n",
    "\n",
    "ax.set_ylabel(r'Rozloha zástavby [m$^2$]') \n",
    "# TODO pro graf změnit m2 na km2\n",
    "ax.set_xlabel('Délka železnice [m]')\n",
    "# TODO pro graf změnit m na km"
   ]
  },
  {
   "cell_type": "code",
   "execution_count": 6,
   "metadata": {},
   "outputs": [
    {
     "data": {
      "text/plain": [
       "Text(0,0.5,u'Po\\u010det variant')"
      ]
     },
     "execution_count": 6,
     "metadata": {},
     "output_type": "execute_result"
    },
    {
     "data": {
      "image/png": "[encoded data removed]",
      "text/plain": [
       "<matplotlib.figure.Figure at 0xb878e10>"
      ]
     },
     "metadata": {},
     "output_type": "display_data"
    }
   ],
   "source": [
    "# histogram délky železnice\n",
    "d = df.zeleznice_delka[df.zeleznice_delka <= 15000]\n",
    "dx = (d/1000).hist(bins=100)\n",
    "dx.set_xlabel('Délka železnice [m]')\n",
    "dx.set_ylabel('Počet variant')\n",
    "# TODO: jak nastavit rozsah os u histogramu?\n",
    "# TODO: jak si poradit s rozdílnou šířkou sloupců? "
   ]
  },
  {
   "cell_type": "code",
   "execution_count": 6,
   "metadata": {},
   "outputs": [
    {
     "data": {
      "text/html": [
       "<div>\n",
       "<style scoped>\n",
       "    .dataframe tbody tr th:only-of-type {\n",
       "        vertical-align: middle;\n",
       "    }\n",
       "\n",
       "    .dataframe tbody tr th {\n",
       "        vertical-align: top;\n",
       "    }\n",
       "\n",
       "    .dataframe thead th {\n",
       "        text-align: right;\n",
       "    }\n",
       "</style>\n",
       "<table border=\"1\" class=\"dataframe\">\n",
       "  <thead>\n",
       "    <tr style=\"text-align: right;\">\n",
       "      <th></th>\n",
       "      <th>zeleznice_delka</th>\n",
       "      <th>vrstevnice_pocet</th>\n",
       "      <th>vodni_plohy_rozloha</th>\n",
       "      <th>dibA02_delka</th>\n",
       "      <th>relief_rozloha</th>\n",
       "      <th>zastavba_rozloha</th>\n",
       "    </tr>\n",
       "  </thead>\n",
       "  <tbody>\n",
       "    <tr>\n",
       "      <th>count</th>\n",
       "      <td>20815.000000</td>\n",
       "      <td>20815.000000</td>\n",
       "      <td>2.081500e+04</td>\n",
       "      <td>20815.000000</td>\n",
       "      <td>2.081500e+04</td>\n",
       "      <td>2.081500e+04</td>\n",
       "    </tr>\n",
       "    <tr>\n",
       "      <th>mean</th>\n",
       "      <td>5407.233793</td>\n",
       "      <td>117.967668</td>\n",
       "      <td>2.510802e+05</td>\n",
       "      <td>12364.169689</td>\n",
       "      <td>4.470903e+04</td>\n",
       "      <td>1.287449e+06</td>\n",
       "    </tr>\n",
       "    <tr>\n",
       "      <th>std</th>\n",
       "      <td>1625.858989</td>\n",
       "      <td>87.364416</td>\n",
       "      <td>4.927752e+05</td>\n",
       "      <td>5724.969691</td>\n",
       "      <td>3.107577e+05</td>\n",
       "      <td>1.093313e+06</td>\n",
       "    </tr>\n",
       "    <tr>\n",
       "      <th>min</th>\n",
       "      <td>3000.140000</td>\n",
       "      <td>1.000000</td>\n",
       "      <td>1.000000e+00</td>\n",
       "      <td>0.000000</td>\n",
       "      <td>0.000000e+00</td>\n",
       "      <td>4.043600e+02</td>\n",
       "    </tr>\n",
       "    <tr>\n",
       "      <th>25%</th>\n",
       "      <td>4232.315000</td>\n",
       "      <td>53.000000</td>\n",
       "      <td>4.303593e+04</td>\n",
       "      <td>8528.750000</td>\n",
       "      <td>0.000000e+00</td>\n",
       "      <td>6.243429e+05</td>\n",
       "    </tr>\n",
       "    <tr>\n",
       "      <th>50%</th>\n",
       "      <td>4980.100000</td>\n",
       "      <td>97.000000</td>\n",
       "      <td>1.065517e+05</td>\n",
       "      <td>12357.840000</td>\n",
       "      <td>1.903630e+03</td>\n",
       "      <td>9.979901e+05</td>\n",
       "    </tr>\n",
       "    <tr>\n",
       "      <th>75%</th>\n",
       "      <td>6301.100000</td>\n",
       "      <td>160.000000</td>\n",
       "      <td>2.595220e+05</td>\n",
       "      <td>16034.910000</td>\n",
       "      <td>1.670704e+04</td>\n",
       "      <td>1.608132e+06</td>\n",
       "    </tr>\n",
       "    <tr>\n",
       "      <th>max</th>\n",
       "      <td>9999.850000</td>\n",
       "      <td>637.000000</td>\n",
       "      <td>9.779810e+06</td>\n",
       "      <td>41292.720000</td>\n",
       "      <td>1.070742e+07</td>\n",
       "      <td>1.535264e+07</td>\n",
       "    </tr>\n",
       "  </tbody>\n",
       "</table>\n",
       "</div>"
      ],
      "text/plain": [
       "       zeleznice_delka  vrstevnice_pocet  vodni_plohy_rozloha  dibA02_delka  \\\n",
       "count     20815.000000      20815.000000         2.081500e+04  20815.000000   \n",
       "mean       5407.233793        117.967668         2.510802e+05  12364.169689   \n",
       "std        1625.858989         87.364416         4.927752e+05   5724.969691   \n",
       "min        3000.140000          1.000000         1.000000e+00      0.000000   \n",
       "25%        4232.315000         53.000000         4.303593e+04   8528.750000   \n",
       "50%        4980.100000         97.000000         1.065517e+05  12357.840000   \n",
       "75%        6301.100000        160.000000         2.595220e+05  16034.910000   \n",
       "max        9999.850000        637.000000         9.779810e+06  41292.720000   \n",
       "\n",
       "       relief_rozloha  zastavba_rozloha  \n",
       "count    2.081500e+04      2.081500e+04  \n",
       "mean     4.470903e+04      1.287449e+06  \n",
       "std      3.107577e+05      1.093313e+06  \n",
       "min      0.000000e+00      4.043600e+02  \n",
       "25%      0.000000e+00      6.243429e+05  \n",
       "50%      1.903630e+03      9.979901e+05  \n",
       "75%      1.670704e+04      1.608132e+06  \n",
       "max      1.070742e+07      1.535264e+07  "
      ]
     },
     "execution_count": 6,
     "metadata": {},
     "output_type": "execute_result"
    }
   ],
   "source": [
    "# PODMÍNKA: délka železnice\n",
    "zeleznice_delka_min = 3000\n",
    "zeleznice_delka_max = 10000\n",
    "\n",
    "df[(df.zeleznice_delka >= zeleznice_delka_min) & (df.zeleznice_delka <= zeleznice_delka_max)].describe()"
   ]
  },
  {
   "cell_type": "code",
   "execution_count": 7,
   "metadata": {},
   "outputs": [
    {
     "data": {
      "text/plain": [
       "Text(0,0.5,u'Po\\u010det variant')"
      ]
     },
     "execution_count": 7,
     "metadata": {},
     "output_type": "execute_result"
    },
    {
     "data": {
      "image/png": "[encoded data removed]",
      "text/plain": [
       "<matplotlib.figure.Figure at 0xcc85f98>"
      ]
     },
     "metadata": {},
     "output_type": "display_data"
    }
   ],
   "source": [
    "# histogram rozlohy zástavby\n",
    "d = df.zastavba_rozloha[df.zastavba_rozloha <= 5*1000*1000] # 5km2\n",
    "dx = d.hist(bins=100)\n",
    "dx.set_xlabel('Rozloha zástavby [m$^2$]')\n",
    "dx.set_ylabel('Počet variant')"
   ]
  },
  {
   "cell_type": "code",
   "execution_count": 8,
   "metadata": {},
   "outputs": [
    {
     "data": {
      "text/html": [
       "<div>\n",
       "<style scoped>\n",
       "    .dataframe tbody tr th:only-of-type {\n",
       "        vertical-align: middle;\n",
       "    }\n",
       "\n",
       "    .dataframe tbody tr th {\n",
       "        vertical-align: top;\n",
       "    }\n",
       "\n",
       "    .dataframe thead th {\n",
       "        text-align: right;\n",
       "    }\n",
       "</style>\n",
       "<table border=\"1\" class=\"dataframe\">\n",
       "  <thead>\n",
       "    <tr style=\"text-align: right;\">\n",
       "      <th></th>\n",
       "      <th>zeleznice_delka</th>\n",
       "      <th>vrstevnice_pocet</th>\n",
       "      <th>vodni_plohy_rozloha</th>\n",
       "      <th>dibA02_delka</th>\n",
       "      <th>relief_rozloha</th>\n",
       "      <th>zastavba_rozloha</th>\n",
       "    </tr>\n",
       "  </thead>\n",
       "  <tbody>\n",
       "    <tr>\n",
       "      <th>count</th>\n",
       "      <td>26635.000000</td>\n",
       "      <td>26635.000000</td>\n",
       "      <td>2.663500e+04</td>\n",
       "      <td>26635.000000</td>\n",
       "      <td>2.663500e+04</td>\n",
       "      <td>2.663500e+04</td>\n",
       "    </tr>\n",
       "    <tr>\n",
       "      <th>mean</th>\n",
       "      <td>4237.849545</td>\n",
       "      <td>119.878581</td>\n",
       "      <td>2.387247e+05</td>\n",
       "      <td>12460.291340</td>\n",
       "      <td>3.917639e+04</td>\n",
       "      <td>9.268750e+05</td>\n",
       "    </tr>\n",
       "    <tr>\n",
       "      <th>std</th>\n",
       "      <td>2879.848898</td>\n",
       "      <td>88.498321</td>\n",
       "      <td>5.116070e+05</td>\n",
       "      <td>5671.001322</td>\n",
       "      <td>2.661103e+05</td>\n",
       "      <td>4.472109e+05</td>\n",
       "    </tr>\n",
       "    <tr>\n",
       "      <th>min</th>\n",
       "      <td>0.230000</td>\n",
       "      <td>1.000000</td>\n",
       "      <td>1.000000e+00</td>\n",
       "      <td>0.000000</td>\n",
       "      <td>0.000000e+00</td>\n",
       "      <td>2.001099e+05</td>\n",
       "    </tr>\n",
       "    <tr>\n",
       "      <th>25%</th>\n",
       "      <td>2228.070000</td>\n",
       "      <td>55.000000</td>\n",
       "      <td>3.496526e+04</td>\n",
       "      <td>8680.950000</td>\n",
       "      <td>0.000000e+00</td>\n",
       "      <td>5.721779e+05</td>\n",
       "    </tr>\n",
       "    <tr>\n",
       "      <th>50%</th>\n",
       "      <td>4209.340000</td>\n",
       "      <td>98.000000</td>\n",
       "      <td>9.164713e+04</td>\n",
       "      <td>12526.690000</td>\n",
       "      <td>1.394580e+03</td>\n",
       "      <td>8.503664e+05</td>\n",
       "    </tr>\n",
       "    <tr>\n",
       "      <th>75%</th>\n",
       "      <td>5494.570000</td>\n",
       "      <td>161.000000</td>\n",
       "      <td>2.337868e+05</td>\n",
       "      <td>16129.020000</td>\n",
       "      <td>1.406489e+04</td>\n",
       "      <td>1.231483e+06</td>\n",
       "    </tr>\n",
       "    <tr>\n",
       "      <th>max</th>\n",
       "      <td>58807.290000</td>\n",
       "      <td>690.000000</td>\n",
       "      <td>1.017666e+07</td>\n",
       "      <td>41613.460000</td>\n",
       "      <td>9.731709e+06</td>\n",
       "      <td>1.999912e+06</td>\n",
       "    </tr>\n",
       "  </tbody>\n",
       "</table>\n",
       "</div>"
      ],
      "text/plain": [
       "       zeleznice_delka  vrstevnice_pocet  vodni_plohy_rozloha  dibA02_delka  \\\n",
       "count     26635.000000      26635.000000         2.663500e+04  26635.000000   \n",
       "mean       4237.849545        119.878581         2.387247e+05  12460.291340   \n",
       "std        2879.848898         88.498321         5.116070e+05   5671.001322   \n",
       "min           0.230000          1.000000         1.000000e+00      0.000000   \n",
       "25%        2228.070000         55.000000         3.496526e+04   8680.950000   \n",
       "50%        4209.340000         98.000000         9.164713e+04  12526.690000   \n",
       "75%        5494.570000        161.000000         2.337868e+05  16129.020000   \n",
       "max       58807.290000        690.000000         1.017666e+07  41613.460000   \n",
       "\n",
       "       relief_rozloha  zastavba_rozloha  \n",
       "count    2.663500e+04      2.663500e+04  \n",
       "mean     3.917639e+04      9.268750e+05  \n",
       "std      2.661103e+05      4.472109e+05  \n",
       "min      0.000000e+00      2.001099e+05  \n",
       "25%      0.000000e+00      5.721779e+05  \n",
       "50%      1.394580e+03      8.503664e+05  \n",
       "75%      1.406489e+04      1.231483e+06  \n",
       "max      9.731709e+06      1.999912e+06  "
      ]
     },
     "execution_count": 8,
     "metadata": {},
     "output_type": "execute_result"
    }
   ],
   "source": [
    "# PODMÍNKA: výskyt zástavby\n",
    "zastavba_rozloha_min = 0.2*1000*1000 #0,2 km2 ve skutečnosti (velmi řídké osídlení)\n",
    "zastavba_rozloha_max = 2*1000*1000   #2km2 ve skutečnosti (1/8 území) 2cm2 v mapě 1 : 50 000 2*(2*500)**2\n",
    "\n",
    "df[(df.zastavba_rozloha >= zastavba_rozloha_min) & (df.zastavba_rozloha <= zastavba_rozloha_max)].describe()\n"
   ]
  },
  {
   "cell_type": "code",
   "execution_count": null,
   "metadata": {},
   "outputs": [
    {
     "data": {
      "text/html": [
       "<div>\n",
       "<style scoped>\n",
       "    .dataframe tbody tr th:only-of-type {\n",
       "        vertical-align: middle;\n",
       "    }\n",
       "\n",
       "    .dataframe tbody tr th {\n",
       "        vertical-align: top;\n",
       "    }\n",
       "\n",
       "    .dataframe thead th {\n",
       "        text-align: right;\n",
       "    }\n",
       "</style>\n",
       "<table border=\"1\" class=\"dataframe\">\n",
       "  <thead>\n",
       "    <tr style=\"text-align: right;\">\n",
       "      <th></th>\n",
       "      <th>zeleznice_delka</th>\n",
       "      <th>vrstevnice_pocet</th>\n",
       "      <th>vodni_plohy_rozloha</th>\n",
       "      <th>dibA02_delka</th>\n",
       "      <th>relief_rozloha</th>\n",
       "      <th>zastavba_rozloha</th>\n",
       "    </tr>\n",
       "  </thead>\n",
       "  <tbody>\n",
       "    <tr>\n",
       "      <th>count</th>\n",
       "      <td>16784.000000</td>\n",
       "      <td>16784.000000</td>\n",
       "      <td>1.678400e+04</td>\n",
       "      <td>16784.000000</td>\n",
       "      <td>1.678400e+04</td>\n",
       "      <td>1.678400e+04</td>\n",
       "    </tr>\n",
       "    <tr>\n",
       "      <th>mean</th>\n",
       "      <td>5260.653352</td>\n",
       "      <td>117.899428</td>\n",
       "      <td>2.462338e+05</td>\n",
       "      <td>12583.102898</td>\n",
       "      <td>3.853450e+04</td>\n",
       "      <td>9.552695e+05</td>\n",
       "    </tr>\n",
       "    <tr>\n",
       "      <th>std</th>\n",
       "      <td>1530.570492</td>\n",
       "      <td>88.400648</td>\n",
       "      <td>5.054949e+05</td>\n",
       "      <td>5682.130985</td>\n",
       "      <td>2.620018e+05</td>\n",
       "      <td>4.460329e+05</td>\n",
       "    </tr>\n",
       "    <tr>\n",
       "      <th>min</th>\n",
       "      <td>3000.140000</td>\n",
       "      <td>1.000000</td>\n",
       "      <td>1.000000e+00</td>\n",
       "      <td>0.000000</td>\n",
       "      <td>0.000000e+00</td>\n",
       "      <td>2.001099e+05</td>\n",
       "    </tr>\n",
       "    <tr>\n",
       "      <th>25%</th>\n",
       "      <td>4192.180000</td>\n",
       "      <td>53.000000</td>\n",
       "      <td>3.972783e+04</td>\n",
       "      <td>8810.182500</td>\n",
       "      <td>0.000000e+00</td>\n",
       "      <td>6.011838e+05</td>\n",
       "    </tr>\n",
       "    <tr>\n",
       "      <th>50%</th>\n",
       "      <td>4877.860000</td>\n",
       "      <td>96.000000</td>\n",
       "      <td>1.001702e+05</td>\n",
       "      <td>12627.885000</td>\n",
       "      <td>1.507170e+03</td>\n",
       "      <td>8.902476e+05</td>\n",
       "    </tr>\n",
       "    <tr>\n",
       "      <th>75%</th>\n",
       "      <td>6040.435000</td>\n",
       "      <td>158.000000</td>\n",
       "      <td>2.478518e+05</td>\n",
       "      <td>16265.507500</td>\n",
       "      <td>1.432223e+04</td>\n",
       "      <td>1.262935e+06</td>\n",
       "    </tr>\n",
       "    <tr>\n",
       "      <th>max</th>\n",
       "      <td>9996.430000</td>\n",
       "      <td>637.000000</td>\n",
       "      <td>9.779810e+06</td>\n",
       "      <td>41292.720000</td>\n",
       "      <td>9.731709e+06</td>\n",
       "      <td>1.999912e+06</td>\n",
       "    </tr>\n",
       "  </tbody>\n",
       "</table>\n",
       "</div>"
      ],
      "text/plain": [
       "       zeleznice_delka  vrstevnice_pocet  vodni_plohy_rozloha  dibA02_delka  \\\n",
       "count     16784.000000      16784.000000         1.678400e+04  16784.000000   \n",
       "mean       5260.653352        117.899428         2.462338e+05  12583.102898   \n",
       "std        1530.570492         88.400648         5.054949e+05   5682.130985   \n",
       "min        3000.140000          1.000000         1.000000e+00      0.000000   \n",
       "25%        4192.180000         53.000000         3.972783e+04   8810.182500   \n",
       "50%        4877.860000         96.000000         1.001702e+05  12627.885000   \n",
       "75%        6040.435000        158.000000         2.478518e+05  16265.507500   \n",
       "max        9996.430000        637.000000         9.779810e+06  41292.720000   \n",
       "\n",
       "       relief_rozloha  zastavba_rozloha  \n",
       "count    1.678400e+04      1.678400e+04  \n",
       "mean     3.853450e+04      9.552695e+05  \n",
       "std      2.620018e+05      4.460329e+05  \n",
       "min      0.000000e+00      2.001099e+05  \n",
       "25%      0.000000e+00      6.011838e+05  \n",
       "50%      1.507170e+03      8.902476e+05  \n",
       "75%      1.432223e+04      1.262935e+06  \n",
       "max      9.731709e+06      1.999912e+06  "
      ]
     },
     "execution_count": 9,
     "metadata": {},
     "output_type": "execute_result"
    }
   ],
   "source": [
    "# železnice AND zástavba\n",
    "df[(df.zeleznice_delka >= zeleznice_delka_min) & (df.zeleznice_delka <= zeleznice_delka_max) &\n",
    "    (df.zastavba_rozloha >= zastavba_rozloha_min) & (df.zastavba_rozloha <= zastavba_rozloha_max)].describe()"
   ]
  },
  {
   "cell_type": "code",
   "execution_count": null,
   "metadata": {},
   "outputs": [
    {
     "data": {
      "text/plain": [
       "Text(0,0.5,u'Po\\u010det variant')"
      ]
     },
     "execution_count": 10,
     "metadata": {},
     "output_type": "execute_result"
    }
   ],
   "source": [
    "# histogram rozlohy skal a povrchové těžby\n",
    "d = df.relief_rozloha[(df.relief_rozloha > 0) & (df.relief_rozloha <= 250*250)]\n",
    "dx = d.hist(bins=100)\n",
    "dx.set_xlabel('Rozloha skal a území povrchové těžby [m$^2$]')\n",
    "dx.set_ylabel('Počet variant')"
   ]
  },
  {
   "cell_type": "code",
   "execution_count": null,
   "metadata": {},
   "outputs": [],
   "source": [
    "# PODMÍNKA: maximalni povolena rozloha skal a povrchové těžby\n",
    "relief_rozloha_max = 1*250*250 # 1cm2 v mapě 1 : 25 000\n",
    "\n",
    "df[(df.relief_rozloha <= relief_rozloha_max)].describe()\n"
   ]
  },
  {
   "cell_type": "code",
   "execution_count": null,
   "metadata": {},
   "outputs": [],
   "source": [
    "# histogram rozlohy skal a povrchové těžby\n",
    "d = df.vodni_plohy_rozloha[(df.vodni_plohy_rozloha < 5*500*500)]\n",
    "dx = d.hist(bins=100)\n",
    "dx.set_xlabel('Rozloha vodních ploch [m$^2$]')\n",
    "dx.set_ylabel('Počet variant')"
   ]
  },
  {
   "cell_type": "code",
   "execution_count": null,
   "metadata": {},
   "outputs": [],
   "source": [
    "# PODMÍNKA: výskyt vodní plochy\n",
    "vodni_plohy_min = 500*500 # 1cm2 v mapě 1 : 50 000 (možno použít i při bližším neurčení, jestli je vodní plocha opravdu ideální nádrž)\n",
    "\n",
    "df[(df.vodni_plohy_rozloha >= vodni_plohy_min)].describe()"
   ]
  },
  {
   "cell_type": "code",
   "execution_count": null,
   "metadata": {},
   "outputs": [],
   "source": [
    "d = df.dibA02_delka #[(df.vodni_plohy_rozloha < 5*500*500)]\n",
    "dx = d.hist(bins=100)\n",
    "dx.set_xlabel('Délka vodních toků DMÚ25 [m]')\n",
    "dx.set_ylabel('Počet variant')\n",
    "# zde problém s vypovídající hodnotou dat = některé vodní toky jako vodní plochy"
   ]
  },
  {
   "cell_type": "code",
   "execution_count": null,
   "metadata": {},
   "outputs": [],
   "source": []
  },
  {
   "cell_type": "code",
   "execution_count": null,
   "metadata": {},
   "outputs": [],
   "source": [
    "# PODMÍNKA délka dibavod vodních toků\n",
    "dibA02_delka_min = 5000 # zhruba průměr +- 7000 m\n",
    "dibA02_delka_max = 20000\n",
    "\n",
    "df[(df.dibA02_delka >= dibA02_delka_min) & (df.dibA02_delka <= dibA02_delka_max)].describe()"
   ]
  },
  {
   "cell_type": "code",
   "execution_count": null,
   "metadata": {},
   "outputs": [],
   "source": [
    "# železnice AND zástavba AND reliéf_min AND vodní plocha AND délka dibavod řek\n",
    "\n",
    "vybrano = df[(df.zeleznice_delka >= zeleznice_delka_min) & (df.zeleznice_delka <= zeleznice_delka_max) &\n",
    "                (df.zastavba_rozloha >= zastavba_rozloha_min) & (df.zastavba_rozloha <= zastavba_rozloha_max)&\n",
    "                (df.relief_rozloha <= relief_rozloha_max) &\n",
    "                (df.vodni_plohy_rozloha >= vodni_plohy_min) &\n",
    "                (df.dibA02_delka >= dibA02_delka_min) & (df.dibA02_delka <= dibA02_delka_max)]\n",
    "vybrano.describe()"
   ]
  },
  {
   "cell_type": "code",
   "execution_count": null,
   "metadata": {},
   "outputs": [],
   "source": [
    "# oprava chyby (dibavod byly řeky dmú25) > chci i vše menší než podmínka u řek\n",
    "\n",
    "vybrano1 = df[(df.zeleznice_delka >= zeleznice_delka_min) & (df.zeleznice_delka <= zeleznice_delka_max) &\n",
    "                (df.zastavba_rozloha >= zastavba_rozloha_min) & (df.zastavba_rozloha <= zastavba_rozloha_max)&\n",
    "                (df.relief_rozloha <= relief_rozloha_max) &\n",
    "                (df.vodni_plohy_rozloha >= vodni_plohy_min) &\n",
    "                #(df.dibA02_delka >= dibA02_delka_min) & # nastaveno jen horní omezení, kvuli dmú25 x dibavod\n",
    "                 (df.dibA02_delka <= dibA02_delka_min)]\n",
    "vybrano1.describe()"
   ]
  },
  {
   "cell_type": "code",
   "execution_count": null,
   "metadata": {},
   "outputs": [],
   "source": [
    "# funkce vrátí 1=True pokud ID splňuje podmínku\n",
    "def splnuje (radek):\n",
    "    return 1\n",
    "    \n",
    "vybrano = vybrano.apply(splnuje, axis=1).to_frame()\n",
    "vybrano.columns = ['predvyber_ANO']\n",
    "vybrano.head()\n"
   ]
  },
  {
   "cell_type": "code",
   "execution_count": null,
   "metadata": {},
   "outputs": [],
   "source": [
    "def splnuje (radek):\n",
    "    return 1\n",
    "    \n",
    "vybrano1 = vybrano1.apply(splnuje, axis=1).to_frame()\n",
    "vybrano1.columns = ['predvyber_ANO']\n",
    "vybrano1.head()"
   ]
  },
  {
   "cell_type": "code",
   "execution_count": null,
   "metadata": {},
   "outputs": [],
   "source": [
    "vybrano.to_csv('0_predvyber_analyza_BIG_true.csv')"
   ]
  },
  {
   "cell_type": "code",
   "execution_count": null,
   "metadata": {},
   "outputs": [],
   "source": [
    "vybrano1.to_csv('0_predvyber_analyza_BIG_true_doplnek.csv')"
   ]
  },
  {
   "cell_type": "code",
   "execution_count": null,
   "metadata": {},
   "outputs": [],
   "source": [
    "df2 = pd.read_csv(r\"C:\\fenclova\\diplomka\\analyza\\vysledky\\Nove_predvyber2_vysledky3200.csv\").set_index('ID')\n",
    "df2.describe()"
   ]
  },
  {
   "cell_type": "code",
   "execution_count": null,
   "metadata": {},
   "outputs": [],
   "source": [
    "# histogram rozlohy vodnich nadrzi\n",
    "d = df2.vodni_nadrz_rozloha[(df2.vodni_nadrz_rozloha >= 100000) & (df2.vodni_nadrz_rozloha <= 2*1000*1000)] \n",
    "# 100 000 m2 je podle oka malý rybník a 2*1000*1000 jsou 2 km2 = 1/8 území\n",
    "dx = d.hist(bins=50)\n",
    "dx.set_xlabel('Rozloha vodních nádrží [m$^2$]')\n",
    "dx.set_ylabel('Počet variant')\n",
    "# TODO jak s měřítkem na osách, rozloha > km2"
   ]
  },
  {
   "cell_type": "code",
   "execution_count": null,
   "metadata": {},
   "outputs": [],
   "source": [
    "# PODMÍNKA plocha jen vodních nádrží\n",
    "vodni_nadrz_rozloha_min = 100000 # malý rybník\n",
    "vodni_nadrz_rozloha_max = 2*1000*1000 # 1/8 území = 2km2\n",
    "\n",
    "df2[(df2.vodni_nadrz_rozloha >= vodni_nadrz_rozloha_min) & \n",
    "    (df2.vodni_nadrz_rozloha <= vodni_nadrz_rozloha_max)].describe()"
   ]
  },
  {
   "cell_type": "code",
   "execution_count": null,
   "metadata": {},
   "outputs": [],
   "source": [
    "# histogram délky vrstevnic\n",
    "d = df2.delka_vrstevnic[(df2.delka_vrstevnic >= 100000) & (df2.delka_vrstevnic <= 300000)] \n",
    "dx = d.hist(bins=50)\n",
    "dx.set_xlabel(r'Délka vrstevnic [m]')\n",
    "dx.set_ylabel(r'Počet variant')"
   ]
  },
  {
   "cell_type": "code",
   "execution_count": null,
   "metadata": {},
   "outputs": [],
   "source": [
    "# TODO: \n",
    "# PODMÍNKA délka vrstevnic\n",
    "delka_vrstevnic_min = 100000 # lehce < 25%\n",
    "delka_vrstevnic_max = 600000 # o něco více než 75%\n",
    "\n",
    "df2[(df2.delka_vrstevnic >= delka_vrstevnic_min) & \n",
    "    (df2.delka_vrstevnic <= delka_vrstevnic_max)].describe()"
   ]
  },
  {
   "cell_type": "code",
   "execution_count": null,
   "metadata": {},
   "outputs": [],
   "source": [
    "vybrano2 = df2[(df2.delka_vrstevnic >= delka_vrstevnic_min) & \n",
    "                #(df2.delka_vrstevnic <= delka_vrstevnic_max) &\n",
    "                (df2.vodni_nadrz_rozloha >= vodni_nadrz_rozloha_min) & \n",
    "                (df2.vodni_nadrz_rozloha <= vodni_nadrz_rozloha_max)]\n",
    "vybrano2.describe()"
   ]
  },
  {
   "cell_type": "code",
   "execution_count": null,
   "metadata": {},
   "outputs": [],
   "source": [
    "def splnuje (radek):\n",
    "    return 1\n",
    "    \n",
    "vybrano2 = vybrano2.apply(splnuje, axis=1).to_frame()\n",
    "vybrano2.columns = ['predvyber2000_ANO']\n",
    "vybrano2.describe()"
   ]
  },
  {
   "cell_type": "code",
   "execution_count": null,
   "metadata": {},
   "outputs": [],
   "source": [
    "vybrano2 = vybrano2.join(df2)\n",
    "vybrano2.describe()"
   ]
  },
  {
   "cell_type": "code",
   "execution_count": null,
   "metadata": {},
   "outputs": [],
   "source": [
    "vybrano2.to_csv('0_predvyber_analyza2000.csv')"
   ]
  },
  {
   "cell_type": "code",
   "execution_count": null,
   "metadata": {},
   "outputs": [],
   "source": [
    "# TODO: vodní tok, který půlí ideálně na polovinu\n",
    "df3_test = pd.read_csv(r'C:\\fenclova\\diplomka\\_bordel\\0_pokusPovodi\\Nove_predvyber_VodniTok4.csv')\n",
    "df3_test.describe()"
   ]
  },
  {
   "cell_type": "code",
   "execution_count": null,
   "metadata": {},
   "outputs": [],
   "source": [
    "# histogram podilu ploch\n",
    "d = df3_test.nejlepsi_podil_ploch[(df3_test.nejlepsi_podil_ploch <= 10)] \n",
    "dx = d.hist(bins=100)\n",
    "dx.set_xlabel(r'Podíl ploch při rozdělení území vodním tokem')\n",
    "dx.set_ylabel(r'Počet variant')"
   ]
  },
  {
   "cell_type": "code",
   "execution_count": null,
   "metadata": {},
   "outputs": [],
   "source": []
  }
 ],
 "metadata": {
  "kernelspec": {
   "display_name": "Python 2",
   "language": "python",
   "name": "python2"
  },
  "language_info": {
   "codemirror_mode": {
    "name": "ipython",
    "version": 2
   },
   "file_extension": ".py",
   "mimetype": "text/x-python",
   "name": "python",
   "nbconvert_exporter": "python",
   "pygments_lexer": "ipython2",
   "version": "2.7.14"
  }
 },
 "nbformat": 4,
 "nbformat_minor": 2
}
